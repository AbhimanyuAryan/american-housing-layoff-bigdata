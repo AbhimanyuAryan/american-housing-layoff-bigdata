{
 "cells": [
  {
   "cell_type": "code",
   "execution_count": 1,
   "metadata": {},
   "outputs": [
    {
     "ename": "ModuleNotFoundError",
     "evalue": "No module named 'pandas'",
     "output_type": "error",
     "traceback": [
      "\u001b[1;31m---------------------------------------------------------------------------\u001b[0m",
      "\u001b[1;31mModuleNotFoundError\u001b[0m                       Traceback (most recent call last)",
      "Cell \u001b[1;32mIn[1], line 1\u001b[0m\n\u001b[1;32m----> 1\u001b[0m \u001b[38;5;28;01mimport\u001b[39;00m \u001b[38;5;21;01mpandas\u001b[39;00m \u001b[38;5;28;01mas\u001b[39;00m \u001b[38;5;21;01mpd\u001b[39;00m\n",
      "\u001b[1;31mModuleNotFoundError\u001b[0m: No module named 'pandas'"
     ]
    }
   ],
   "source": [
    "import pandas as pd"
   ]
  },
  {
   "cell_type": "code",
   "execution_count": 2,
   "metadata": {},
   "outputs": [],
   "source": [
    "# Read the Excel file\n",
    "df_layoff_pd = pd.read_excel('tech_layoffs.xlsx')\n",
    "\n",
    "# Read the TSV file\n",
    "df_housing_pd = pd.read_csv(\"latest_weekly_housing_market_data_most_recent.tsv000\", sep='\\t')"
   ]
  },
  {
   "cell_type": "code",
   "execution_count": 3,
   "metadata": {},
   "outputs": [],
   "source": [
    "from couchbase.auth import PasswordAuthenticator\n",
    "from couchbase.cluster import Cluster\n",
    "from couchbase.options import ClusterOptions, QueryOptions\n",
    "from couchbase.auth import PasswordAuthenticator\n",
    "from couchbase.cluster import Cluster\n",
    "from couchbase.options import ClusterOptions, QueryOptions\n",
    "from couchbase.bucket import Bucket\n",
    "from couchbase.management.buckets import CreateBucketSettings"
   ]
  },
  {
   "cell_type": "code",
   "execution_count": 4,
   "metadata": {},
   "outputs": [
    {
     "data": {
      "text/plain": [
       "True"
      ]
     },
     "execution_count": 4,
     "metadata": {},
     "output_type": "execute_result"
    }
   ],
   "source": [
    "import os\n",
    "import dotenv\n",
    "from dotenv import load_dotenv\n",
    "load_dotenv()"
   ]
  },
  {
   "cell_type": "code",
   "execution_count": 9,
   "metadata": {},
   "outputs": [],
   "source": [
    "couchbaseUsername, couchbasePassword = os.getenv('COUCHBASE_USERNAME'), os.getenv('COUCHBASE_PASSWORD')\n",
    "\n",
    "\n",
    "# get a reference to our cluster\n",
    "auth = PasswordAuthenticator(couchbaseUsername, couchbasePassword)\n",
    "cluster = Cluster.connect('couchbase://127.0.0.1', ClusterOptions(auth))"
   ]
  },
  {
   "cell_type": "code",
   "execution_count": 10,
   "metadata": {},
   "outputs": [],
   "source": [
    "def db_populator(datasets, options=None):\n",
    "    for bucketName, dataset in datasets:\n",
    "        if options is not None:\n",
    "            bucketSettings = CreateBucketSettings(name=options[\"name\"], \n",
    "                                                  bucket_type=options[\"bucket_type\"], \n",
    "                                                  ram_quota_mb=options[\"ram_quota_mb\"], \n",
    "                                                  max_expiry=options[\"max_expiry\"], \n",
    "                                                  compression_mode=options[\"compression_mode\"], \n",
    "                                                  conflict_resolution_type=options[\"conflict_resolution_type\"])\n",
    "        else:\n",
    "            bucketSettings = CreateBucketSettings(name=bucketName, \n",
    "                                                  bucket_type=\"couchbase\", \n",
    "                                                  ram_quota_mb=100, \n",
    "                                                  max_expiry=0, \n",
    "                                                  compression_mode=\"passive\", \n",
    "                                                  conflict_resolution_type=\"seqno\")\n",
    "            \n",
    "        print(f\"Populating {bucketName} with {len(dataset)} documents\")\n",
    "\n",
    "        try: \n",
    "            cluster.buckets().create_bucket(bucketSettings)\n",
    "            print('Bucket created')\n",
    "            cluster.wait_until_ready(20)\n",
    "        except Exception as e:\n",
    "            if \"Bucket with given name already exists\" in str(e):\n",
    "                pass\n",
    "\n",
    "        bucket = cluster.bucket(bucketName)\n",
    "        collection = bucket.default_collection()\n",
    "\n",
    "        i = 0\n",
    "        for _, row in dataset.iterrows():\n",
    "            data = row.to_dict()\n",
    "\n",
    "            # Convert non-serializable objects (e.g., Timestamps) to strings or appropriate formats\n",
    "            for key, value in data.items():\n",
    "                if isinstance(value, pd.Timestamp):\n",
    "                    data[key] = value.isoformat()  # or use value.timestamp() for Unix timestamp\n",
    "\n",
    "            data[\"_id\"] = str(i)\n",
    "            collection.upsert(str(i), data)\n",
    "            i += 1\n",
    "\n",
    "        print('Data stored')\n",
    "\n",
    "        try:\n",
    "            cluster.query_indexes().create_primary_index(bucketName)\n",
    "            print('Index created')\n",
    "        except Exception as e:\n",
    "            if \"already exists\" in str(e):\n",
    "                pass\n"
   ]
  },
  {
   "cell_type": "code",
   "execution_count": 11,
   "metadata": {},
   "outputs": [],
   "source": [
    "datasets = [(\"tech_layoffs\", df_layoff_pd), (\"housing_market\", df_housing_pd)]"
   ]
  },
  {
   "cell_type": "code",
   "execution_count": 12,
   "metadata": {},
   "outputs": [
    {
     "name": "stdout",
     "output_type": "stream",
     "text": [
      "Populating tech_layoffs with 1418 documents\n",
      "Data stored\n",
      "Populating housing_market with 4246231 documents\n",
      "Bucket created\n"
     ]
    },
    {
     "ename": "TemporaryFailException",
     "evalue": "TemporaryFailException(<ec=13, category=couchbase.common, message=ambiguous_timeout (13), context=KeyValueErrorContext:{'retry_attempts': 7, 'retry_reasons': {'key_value_temporary_failure'}, 'key': '1258651', 'bucket_name': 'housing_market', 'scope_name': '_default', 'collection_name': '_default', 'opaque': 1258907}, C Source=/Users/couchbase/jenkins/workspace/python/sdk/python-packaging-pipeline/py-client/src/kv_ops.cxx:651>)",
     "output_type": "error",
     "traceback": [
      "\u001b[0;31m---------------------------------------------------------------------------\u001b[0m",
      "\u001b[0;31mTemporaryFailException\u001b[0m                    Traceback (most recent call last)",
      "Cell \u001b[0;32mIn[12], line 1\u001b[0m\n\u001b[0;32m----> 1\u001b[0m \u001b[43mdb_populator\u001b[49m\u001b[43m(\u001b[49m\u001b[43mdatasets\u001b[49m\u001b[43m)\u001b[49m\n",
      "Cell \u001b[0;32mIn[10], line 41\u001b[0m, in \u001b[0;36mdb_populator\u001b[0;34m(datasets, options)\u001b[0m\n\u001b[1;32m     38\u001b[0m             data[key] \u001b[38;5;241m=\u001b[39m value\u001b[38;5;241m.\u001b[39misoformat()  \u001b[38;5;66;03m# or use value.timestamp() for Unix timestamp\u001b[39;00m\n\u001b[1;32m     40\u001b[0m     data[\u001b[38;5;124m\"\u001b[39m\u001b[38;5;124m_id\u001b[39m\u001b[38;5;124m\"\u001b[39m] \u001b[38;5;241m=\u001b[39m \u001b[38;5;28mstr\u001b[39m(i)\n\u001b[0;32m---> 41\u001b[0m     \u001b[43mcollection\u001b[49m\u001b[38;5;241;43m.\u001b[39;49m\u001b[43mupsert\u001b[49m\u001b[43m(\u001b[49m\u001b[38;5;28;43mstr\u001b[39;49m\u001b[43m(\u001b[49m\u001b[43mi\u001b[49m\u001b[43m)\u001b[49m\u001b[43m,\u001b[49m\u001b[43m \u001b[49m\u001b[43mdata\u001b[49m\u001b[43m)\u001b[49m\n\u001b[1;32m     42\u001b[0m     i \u001b[38;5;241m+\u001b[39m\u001b[38;5;241m=\u001b[39m \u001b[38;5;241m1\u001b[39m\n\u001b[1;32m     44\u001b[0m \u001b[38;5;28mprint\u001b[39m(\u001b[38;5;124m'\u001b[39m\u001b[38;5;124mData stored\u001b[39m\u001b[38;5;124m'\u001b[39m)\n",
      "File \u001b[0;32m~/miniconda3/envs/bigdata/lib/python3.9/site-packages/couchbase/logic/wrappers.py:98\u001b[0m, in \u001b[0;36mBlockingWrapper.block.<locals>.decorator.<locals>.wrapped_fn\u001b[0;34m(self, *args, **kwargs)\u001b[0m\n\u001b[1;32m     95\u001b[0m     \u001b[38;5;28;01mif\u001b[39;00m \u001b[38;5;28misinstance\u001b[39m(e, ServiceUnavailableException) \u001b[38;5;129;01mand\u001b[39;00m fn\u001b[38;5;241m.\u001b[39m\u001b[38;5;18m__name__\u001b[39m \u001b[38;5;241m==\u001b[39m \u001b[38;5;124m'\u001b[39m\u001b[38;5;124m_get_cluster_info\u001b[39m\u001b[38;5;124m'\u001b[39m:\n\u001b[1;32m     96\u001b[0m         e\u001b[38;5;241m.\u001b[39m_message \u001b[38;5;241m=\u001b[39m (\u001b[38;5;124m'\u001b[39m\u001b[38;5;124mIf using Couchbase Server < 6.6, \u001b[39m\u001b[38;5;124m'\u001b[39m\n\u001b[1;32m     97\u001b[0m                       \u001b[38;5;124m'\u001b[39m\u001b[38;5;124ma bucket needs to be opened prior to cluster level operations\u001b[39m\u001b[38;5;124m'\u001b[39m)\n\u001b[0;32m---> 98\u001b[0m     \u001b[38;5;28;01mraise\u001b[39;00m e\n\u001b[1;32m     99\u001b[0m \u001b[38;5;28;01mexcept\u001b[39;00m \u001b[38;5;167;01mException\u001b[39;00m \u001b[38;5;28;01mas\u001b[39;00m ex:\n\u001b[1;32m    100\u001b[0m     exc_cls \u001b[38;5;241m=\u001b[39m PYCBC_ERROR_MAP\u001b[38;5;241m.\u001b[39mget(ExceptionMap\u001b[38;5;241m.\u001b[39mInternalSDKException\u001b[38;5;241m.\u001b[39mvalue, CouchbaseException)\n",
      "File \u001b[0;32m~/miniconda3/envs/bigdata/lib/python3.9/site-packages/couchbase/logic/wrappers.py:84\u001b[0m, in \u001b[0;36mBlockingWrapper.block.<locals>.decorator.<locals>.wrapped_fn\u001b[0;34m(self, *args, **kwargs)\u001b[0m\n\u001b[1;32m     82\u001b[0m ret \u001b[38;5;241m=\u001b[39m fn(\u001b[38;5;28mself\u001b[39m, \u001b[38;5;241m*\u001b[39margs, \u001b[38;5;241m*\u001b[39m\u001b[38;5;241m*\u001b[39mkwargs)\n\u001b[1;32m     83\u001b[0m \u001b[38;5;28;01mif\u001b[39;00m \u001b[38;5;28misinstance\u001b[39m(ret, BaseCouchbaseException):\n\u001b[0;32m---> 84\u001b[0m     \u001b[38;5;28;01mraise\u001b[39;00m ErrorMapper\u001b[38;5;241m.\u001b[39mbuild_exception(ret)\n\u001b[1;32m     85\u001b[0m \u001b[38;5;28;01mif\u001b[39;00m return_cls \u001b[38;5;129;01mis\u001b[39;00m \u001b[38;5;28;01mNone\u001b[39;00m:\n\u001b[1;32m     86\u001b[0m     \u001b[38;5;28;01mreturn\u001b[39;00m \u001b[38;5;28;01mNone\u001b[39;00m\n",
      "\u001b[0;31mTemporaryFailException\u001b[0m: TemporaryFailException(<ec=13, category=couchbase.common, message=ambiguous_timeout (13), context=KeyValueErrorContext:{'retry_attempts': 7, 'retry_reasons': {'key_value_temporary_failure'}, 'key': '1258651', 'bucket_name': 'housing_market', 'scope_name': '_default', 'collection_name': '_default', 'opaque': 1258907}, C Source=/Users/couchbase/jenkins/workspace/python/sdk/python-packaging-pipeline/py-client/src/kv_ops.cxx:651>)"
     ]
    }
   ],
   "source": [
    "db_populator(datasets)"
   ]
  },
  {
   "cell_type": "code",
   "execution_count": null,
   "metadata": {},
   "outputs": [],
   "source": []
  }
 ],
 "metadata": {
  "kernelspec": {
   "display_name": "PL6",
   "language": "python",
   "name": "python3"
  },
  "language_info": {
   "codemirror_mode": {
    "name": "ipython",
    "version": 3
   },
   "file_extension": ".py",
   "mimetype": "text/x-python",
   "name": "python",
   "nbconvert_exporter": "python",
   "pygments_lexer": "ipython3",
   "version": "3.11.0"
  }
 },
 "nbformat": 4,
 "nbformat_minor": 2
}
