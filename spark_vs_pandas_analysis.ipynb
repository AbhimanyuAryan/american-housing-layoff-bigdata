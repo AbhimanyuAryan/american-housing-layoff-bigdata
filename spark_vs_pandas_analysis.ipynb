{
 "cells": [
  {
   "cell_type": "code",
   "execution_count": 2,
   "metadata": {},
   "outputs": [],
   "source": [
    "import findspark\n",
    "findspark.init()"
   ]
  },
  {
   "cell_type": "code",
   "execution_count": 3,
   "metadata": {},
   "outputs": [],
   "source": [
    "# Time analysis for pandas read and write operations\n",
    "\n",
    "import pandas as pd\n",
    "import time\n",
    "from pyspark.sql import SparkSession"
   ]
  },
  {
   "cell_type": "code",
   "execution_count": 4,
   "metadata": {},
   "outputs": [
    {
     "name": "stderr",
     "output_type": "stream",
     "text": [
      "24/05/27 15:45:48 WARN Utils: Your hostname, Abhimanyus-MacBook-Air.local resolves to a loopback address: 127.0.0.1; using 10.191.2.98 instead (on interface en0)\n",
      "24/05/27 15:45:48 WARN Utils: Set SPARK_LOCAL_IP if you need to bind to another address\n",
      "Ivy Default Cache set to: /Users/abhi/.ivy2/cache\n",
      "The jars for the packages stored in: /Users/abhi/.ivy2/jars\n",
      "com.crealytics#spark-excel_2.12 added as a dependency\n",
      ":: resolving dependencies :: org.apache.spark#spark-submit-parent-383c2687-0cc3-4d2f-8eda-5ad57acdcb2a;1.0\n",
      "\tconfs: [default]\n"
     ]
    },
    {
     "name": "stdout",
     "output_type": "stream",
     "text": [
      ":: loading settings :: url = jar:file:/Users/abhi/miniconda3/envs/bigdata/lib/python3.9/site-packages/pyspark/jars/ivy-2.5.1.jar!/org/apache/ivy/core/settings/ivysettings.xml\n"
     ]
    },
    {
     "name": "stderr",
     "output_type": "stream",
     "text": [
      "\tfound com.crealytics#spark-excel_2.12;0.13.7 in central\n",
      "\tfound org.apache.poi#poi;4.1.2 in central\n",
      "\tfound commons-codec#commons-codec;1.13 in central\n",
      "\tfound org.apache.commons#commons-collections4;4.4 in central\n",
      "\tfound org.apache.commons#commons-math3;3.6.1 in central\n",
      "\tfound com.zaxxer#SparseBitSet;1.2 in central\n",
      "\tfound org.apache.poi#poi-ooxml;4.1.2 in central\n",
      "\tfound org.apache.poi#poi-ooxml-schemas;4.1.2 in central\n",
      "\tfound org.apache.xmlbeans#xmlbeans;3.1.0 in central\n",
      "\tfound com.github.virtuald#curvesapi;1.06 in central\n",
      "\tfound com.norbitltd#spoiwo_2.12;1.8.0 in central\n",
      "\tfound org.scala-lang.modules#scala-xml_2.12;1.3.0 in central\n",
      "\tfound com.github.pjfanning#excel-streaming-reader;2.3.6 in central\n",
      "\tfound com.github.pjfanning#poi-shared-strings;1.0.4 in central\n",
      "\tfound com.h2database#h2;1.4.200 in central\n",
      "\tfound org.apache.commons#commons-text;1.8 in central\n",
      "\tfound org.apache.commons#commons-lang3;3.9 in central\n",
      "\tfound xml-apis#xml-apis;1.4.01 in central\n",
      "\tfound org.slf4j#slf4j-api;1.7.30 in central\n",
      "\tfound org.apache.commons#commons-compress;1.20 in central\n",
      ":: resolution report :: resolve 298ms :: artifacts dl 11ms\n",
      "\t:: modules in use:\n",
      "\tcom.crealytics#spark-excel_2.12;0.13.7 from central in [default]\n",
      "\tcom.github.pjfanning#excel-streaming-reader;2.3.6 from central in [default]\n",
      "\tcom.github.pjfanning#poi-shared-strings;1.0.4 from central in [default]\n",
      "\tcom.github.virtuald#curvesapi;1.06 from central in [default]\n",
      "\tcom.h2database#h2;1.4.200 from central in [default]\n",
      "\tcom.norbitltd#spoiwo_2.12;1.8.0 from central in [default]\n",
      "\tcom.zaxxer#SparseBitSet;1.2 from central in [default]\n",
      "\tcommons-codec#commons-codec;1.13 from central in [default]\n",
      "\torg.apache.commons#commons-collections4;4.4 from central in [default]\n",
      "\torg.apache.commons#commons-compress;1.20 from central in [default]\n",
      "\torg.apache.commons#commons-lang3;3.9 from central in [default]\n",
      "\torg.apache.commons#commons-math3;3.6.1 from central in [default]\n",
      "\torg.apache.commons#commons-text;1.8 from central in [default]\n",
      "\torg.apache.poi#poi;4.1.2 from central in [default]\n",
      "\torg.apache.poi#poi-ooxml;4.1.2 from central in [default]\n",
      "\torg.apache.poi#poi-ooxml-schemas;4.1.2 from central in [default]\n",
      "\torg.apache.xmlbeans#xmlbeans;3.1.0 from central in [default]\n",
      "\torg.scala-lang.modules#scala-xml_2.12;1.3.0 from central in [default]\n",
      "\torg.slf4j#slf4j-api;1.7.30 from central in [default]\n",
      "\txml-apis#xml-apis;1.4.01 from central in [default]\n",
      "\t:: evicted modules:\n",
      "\torg.apache.commons#commons-compress;1.19 by [org.apache.commons#commons-compress;1.20] in [default]\n",
      "\t---------------------------------------------------------------------\n",
      "\t|                  |            modules            ||   artifacts   |\n",
      "\t|       conf       | number| search|dwnlded|evicted|| number|dwnlded|\n",
      "\t---------------------------------------------------------------------\n",
      "\t|      default     |   21  |   0   |   0   |   1   ||   20  |   0   |\n",
      "\t---------------------------------------------------------------------\n",
      ":: retrieving :: org.apache.spark#spark-submit-parent-383c2687-0cc3-4d2f-8eda-5ad57acdcb2a\n",
      "\tconfs: [default]\n",
      "\t0 artifacts copied, 20 already retrieved (0kB/9ms)\n",
      "24/05/27 15:45:49 WARN NativeCodeLoader: Unable to load native-hadoop library for your platform... using builtin-java classes where applicable\n",
      "Setting default log level to \"WARN\".\n",
      "To adjust logging level use sc.setLogLevel(newLevel). For SparkR, use setLogLevel(newLevel).\n"
     ]
    },
    {
     "name": "stderr",
     "output_type": "stream",
     "text": [
      "24/05/27 15:46:01 WARN GarbageCollectionMetrics: To enable non-built-in garbage collector(s) List(G1 Concurrent GC), users should configure it(them) to spark.eventLog.gcMetrics.youngGenerationGarbageCollectors or spark.eventLog.gcMetrics.oldGenerationGarbageCollectors\n"
     ]
    }
   ],
   "source": [
    "spark = SparkSession.builder \\\n",
    "    .appName(\"My Spark Application\") \\\n",
    "    .config(\"spark.jars.packages\", \"com.crealytics:spark-excel_2.12:0.13.7\") \\\n",
    "    .config(\"spark.driver.memory\", \"6g\") \\\n",
    "    .config(\"spark.executor.memory\", \"6g\") \\\n",
    "    .config(\"spark.executor.memoryOverhead\", \"1g\") \\\n",
    "    .config(\"spark.memory.fraction\", \"0.8\") \\\n",
    "    .config(\"spark.sql.debug.maxToStringFields\", 1000) \\\n",
    "    .getOrCreate()"
   ]
  },
  {
   "cell_type": "markdown",
   "metadata": {},
   "source": [
    "# analysis with pandas"
   ]
  },
  {
   "cell_type": "code",
   "execution_count": 6,
   "metadata": {},
   "outputs": [
    {
     "name": "stdout",
     "output_type": "stream",
     "text": [
      "Total time to run the two lines of code: 55.639257192611694 seconds\n"
     ]
    }
   ],
   "source": [
    "# Start the timer\n",
    "start_time = time.time()\n",
    "\n",
    "# Read the Excel file\n",
    "df_layoff_pd = pd.read_excel('tech_layoffs.xlsx')\n",
    "\n",
    "# Read the TSV file\n",
    "df_housing_pd = pd.read_csv(\"latest_weekly_housing_market_data_most_recent.tsv000\", sep='\\t')\n",
    "\n",
    "# Stop the timer\n",
    "end_time = time.time()\n",
    "\n",
    "# Calculate total duration\n",
    "total_duration = end_time - start_time\n",
    "\n",
    "print(f\"Total time to run the two lines of code: {total_duration} seconds\")"
   ]
  },
  {
   "cell_type": "markdown",
   "metadata": {},
   "source": [
    "# analysis with Pyspark"
   ]
  },
  {
   "cell_type": "code",
   "execution_count": 7,
   "metadata": {},
   "outputs": [
    {
     "name": "stderr",
     "output_type": "stream",
     "text": [
      "                                                                                \r"
     ]
    },
    {
     "name": "stdout",
     "output_type": "stream",
     "text": [
      "Total time taken to read both files: 5.870390892028809 seconds\n"
     ]
    }
   ],
   "source": [
    "# Start timer for both operations\n",
    "start_time = time.time()\n",
    "\n",
    "# Read Excel file\n",
    "df_layoff_sk = spark.read.format(\"com.crealytics.spark.excel\") \\\n",
    "    .option(\"header\", \"true\") \\\n",
    "    .option(\"inferSchema\", \"true\") \\\n",
    "    .option(\"dataAddress\", \"'Sheet1'!A1\") \\\n",
    "    .load('tech_layoffs.xlsx')\n",
    "\n",
    "# Read CSV file\n",
    "df_housing_sk = spark.read.csv('latest_weekly_housing_market_data_most_recent.tsv000', header=True, sep='\\t')\n",
    "\n",
    "# Calculate and print the total time taken for both read operations\n",
    "total_time_taken = time.time() - start_time\n",
    "print(f\"Total time taken to read both files: {total_time_taken} seconds\")"
   ]
  },
  {
   "cell_type": "markdown",
   "metadata": {},
   "source": [
    "# Parquet write and read with pandas"
   ]
  },
  {
   "cell_type": "code",
   "execution_count": 8,
   "metadata": {},
   "outputs": [
    {
     "name": "stdout",
     "output_type": "stream",
     "text": [
      "Total time to write both DataFrames to Parquet files: 12.101958990097046 seconds\n"
     ]
    }
   ],
   "source": [
    "import time\n",
    "\n",
    "# Start the timer\n",
    "start_time = time.time()\n",
    "\n",
    "# Write the DataFrame from the Excel file to a Parquet file\n",
    "df_layoff_pd.to_parquet('tech_layoffs_pd.parquet')\n",
    "\n",
    "# Write the DataFrame from the TSV file to a Parquet file\n",
    "df_housing_pd.to_parquet('housing_market_pd.parquet')\n",
    "\n",
    "# Stop the timer\n",
    "end_time = time.time()\n",
    "\n",
    "# Calculate total duration\n",
    "total_duration = end_time - start_time\n",
    "\n",
    "print(f\"Total time to write both DataFrames to Parquet files: {total_duration} seconds\")"
   ]
  },
  {
   "cell_type": "markdown",
   "metadata": {},
   "source": [
    "# parallel write to parquet with pyspark"
   ]
  },
  {
   "cell_type": "code",
   "execution_count": 33,
   "metadata": {},
   "outputs": [],
   "source": [
    "#TODO: experimentation write parallel and more memory"
   ]
  },
  {
   "cell_type": "code",
   "execution_count": 9,
   "metadata": {},
   "outputs": [
    {
     "name": "stdout",
     "output_type": "stream",
     "text": [
      "Total time to read both Parquet files into DataFrames: 4.315072059631348 seconds\n"
     ]
    }
   ],
   "source": [
    "# Start the timer\n",
    "start_time = time.time()\n",
    "\n",
    "# Read the Parquet file into a DataFrame\n",
    "df_layoff_pd_pq = pd.read_parquet('tech_layoffs_pd.parquet')\n",
    "df_housing_pd_pq = pd.read_parquet('housing_market_pd.parquet')\n",
    "\n",
    "# Stop the timer\n",
    "end_time = time.time()\n",
    "\n",
    "# Calculate total duration\n",
    "total_duration = end_time - start_time\n",
    "\n",
    "print(f\"Total time to read both Parquet files into DataFrames: {total_duration} seconds\")"
   ]
  },
  {
   "cell_type": "markdown",
   "metadata": {},
   "source": [
    "# Parquet write and read with pyspark"
   ]
  },
  {
   "cell_type": "code",
   "execution_count": 10,
   "metadata": {},
   "outputs": [
    {
     "name": "stderr",
     "output_type": "stream",
     "text": [
      "                                                                                \r"
     ]
    },
    {
     "name": "stdout",
     "output_type": "stream",
     "text": [
      "Total time taken to write both DataFrames to Parquet files: 44.41936421394348 seconds\n"
     ]
    }
   ],
   "source": [
    "# Start timer for both write operations\n",
    "start_time = time.time()\n",
    "\n",
    "# Write the DataFrame to a Parquet file\n",
    "df_layoff_sk.write.parquet('tech_layoffs_sk.parquet', mode='overwrite')\n",
    "\n",
    "# Write the DataFrame to a Parquet file\n",
    "df_housing_sk.write.parquet('housing_market_sk.parquet', mode='overwrite')\n",
    "\n",
    "# Calculate and print the total time taken for both write operations\n",
    "total_time_taken = time.time() - start_time\n",
    "print(f\"Total time taken to write both DataFrames to Parquet files: {total_time_taken} seconds\")\n"
   ]
  },
  {
   "cell_type": "code",
   "execution_count": 11,
   "metadata": {},
   "outputs": [
    {
     "name": "stdout",
     "output_type": "stream",
     "text": [
      "Total time taken to read both DataFrames from Parquet files: 0.1904592514038086 seconds\n"
     ]
    }
   ],
   "source": [
    "# Start timer for both read operations\n",
    "start_time = time.time()\n",
    "\n",
    "# Read the Parquet file into a DataFrame\n",
    "df_layoff_sk_pq = spark.read.parquet('tech_layoffs_sk.parquet')\n",
    "\n",
    "# Read the Parquet file into a DataFrame\n",
    "df_housing_sk_pq = spark.read.parquet('housing_market_sk.parquet')\n",
    "\n",
    "# Calculate and print the total time taken for both read operations\n",
    "total_time_taken = time.time() - start_time\n",
    "print(f\"Total time taken to read both DataFrames from Parquet files: {total_time_taken} seconds\")"
   ]
  },
  {
   "cell_type": "code",
   "execution_count": null,
   "metadata": {},
   "outputs": [],
   "source": []
  }
 ],
 "metadata": {
  "kernelspec": {
   "display_name": "bigdata",
   "language": "python",
   "name": "python3"
  },
  "language_info": {
   "codemirror_mode": {
    "name": "ipython",
    "version": 3
   },
   "file_extension": ".py",
   "mimetype": "text/x-python",
   "name": "python",
   "nbconvert_exporter": "python",
   "pygments_lexer": "ipython3",
   "version": "3.9.18"
  }
 },
 "nbformat": 4,
 "nbformat_minor": 2
}
