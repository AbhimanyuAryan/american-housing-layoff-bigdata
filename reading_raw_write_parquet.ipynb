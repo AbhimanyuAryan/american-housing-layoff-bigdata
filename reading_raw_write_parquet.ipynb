{
 "cells": [
  {
   "cell_type": "code",
   "execution_count": 1,
   "id": "cfa3bfa6-dcf2-46f8-ab63-56d97c14c4f5",
   "metadata": {},
   "outputs": [],
   "source": [
    "import pandas as pd"
   ]
  },
  {
   "cell_type": "code",
   "execution_count": 3,
   "id": "d03928cb",
   "metadata": {},
   "outputs": [],
   "source": [
    "from pyspark.sql import SparkSession"
   ]
  },
  {
   "cell_type": "code",
   "execution_count": 4,
   "id": "0566c4e2",
   "metadata": {},
   "outputs": [
    {
     "name": "stderr",
     "output_type": "stream",
     "text": [
      "24/02/29 09:30:11 WARN Utils: Your hostname, Abhimanyus-MacBook-Air.local resolves to a loopback address: 127.0.0.1; using 172.26.54.38 instead (on interface en0)\n",
      "24/02/29 09:30:11 WARN Utils: Set SPARK_LOCAL_IP if you need to bind to another address\n",
      "Setting default log level to \"WARN\".\n",
      "To adjust logging level use sc.setLogLevel(newLevel). For SparkR, use setLogLevel(newLevel).\n",
      "24/02/29 09:30:12 WARN NativeCodeLoader: Unable to load native-hadoop library for your platform... using builtin-java classes where applicable\n"
     ]
    }
   ],
   "source": [
    "spark = SparkSession.builder \\\n",
    "    .appName(\"My Spark Application\") \\\n",
    "    .config(\"spark.driver.memory\", \"4g\") \\\n",
    "    .config(\"spark.executor.memory\", \"4g\") \\\n",
    "    .getOrCreate()"
   ]
  },
  {
   "cell_type": "code",
   "execution_count": 5,
   "id": "47e930b1",
   "metadata": {},
   "outputs": [],
   "source": [
    "# read tech_layoffs.xlsx with pd\n",
    "df_layoff = pd.read_excel('tech_layoffs.xlsx')"
   ]
  },
  {
   "cell_type": "code",
   "execution_count": 6,
   "id": "5bd4e423",
   "metadata": {},
   "outputs": [],
   "source": [
    "# read tech_layoffs.xlsx with pyspark\n",
    "df_layoff_spark = spark.read.csv('tech_layoffs.xlsx', header=True)"
   ]
  },
  {
   "cell_type": "code",
   "execution_count": 7,
   "id": "4d1f2771",
   "metadata": {},
   "outputs": [
    {
     "name": "stderr",
     "output_type": "stream",
     "text": [
      "24/02/29 09:30:30 WARN GarbageCollectionMetrics: To enable non-built-in garbage collector(s) List(G1 Concurrent GC), users should configure it(them) to spark.eventLog.gcMetrics.youngGenerationGarbageCollectors or spark.eventLog.gcMetrics.oldGenerationGarbageCollectors\n"
     ]
    }
   ],
   "source": [
    "# read housing data with pd\n",
    "df_housing = pd.read_csv(\"weekly_housing_market_data_most_recent.tsv000\", sep='\\t')"
   ]
  },
  {
   "cell_type": "code",
   "execution_count": 8,
   "id": "d0861d5d",
   "metadata": {},
   "outputs": [],
   "source": [
    "# read housing df2 = pd.read_csv(\"weekly_housing_market_data_most_recent.tsv000\", sep='\\t') with pyspark\n",
    "df_housing_spark = spark.read.csv('weekly_housing_market_data_most_recent.tsv000', header=True, sep='\\t')"
   ]
  },
  {
   "cell_type": "code",
   "execution_count": 9,
   "id": "4d26005c",
   "metadata": {},
   "outputs": [],
   "source": [
    "# save df_layoff_spark to parquet\n",
    "# df_layoff_spark.write.parquet('tech_layoffs_spark.parquet')\n",
    "df_layoff_spark.write.mode('overwrite').parquet('tech_layoffs_spark.parquet')"
   ]
  },
  {
   "cell_type": "code",
   "execution_count": 10,
   "id": "2ac56764",
   "metadata": {},
   "outputs": [
    {
     "name": "stderr",
     "output_type": "stream",
     "text": [
      "24/02/29 09:30:50 WARN SparkStringUtils: Truncated the string representation of a plan since it was too large. This behavior can be adjusted by setting 'spark.sql.debug.maxToStringFields'.\n",
      "                                                                                \r"
     ]
    }
   ],
   "source": [
    "# save df_housing_spark to parquet\n",
    "# df_housing_spark.write.parquet('housing_spark.parquet')\n",
    "df_housing_spark.write.mode('overwrite').parquet('housing_spark.parquet')"
   ]
  },
  {
   "cell_type": "code",
   "execution_count": null,
   "id": "e1ef2ba6",
   "metadata": {},
   "outputs": [],
   "source": []
  }
 ],
 "metadata": {
  "kernelspec": {
   "display_name": "Python 3 (ipykernel)",
   "language": "python",
   "name": "python3"
  },
  "language_info": {
   "codemirror_mode": {
    "name": "ipython",
    "version": 3
   },
   "file_extension": ".py",
   "mimetype": "text/x-python",
   "name": "python",
   "nbconvert_exporter": "python",
   "pygments_lexer": "ipython3",
   "version": "3.9.18"
  }
 },
 "nbformat": 4,
 "nbformat_minor": 5
}
